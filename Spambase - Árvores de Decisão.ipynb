{
 "cells": [
  {
   "cell_type": "code",
   "execution_count": 1,
   "metadata": {
    "collapsed": true
   },
   "outputs": [],
   "source": [
    "%matplotlib inline"
   ]
  },
  {
   "cell_type": "markdown",
   "metadata": {
    "collapsed": true
   },
   "source": [
    "**Recuperando o que foi feito na introdução...**"
   ]
  },
  {
   "cell_type": "code",
   "execution_count": 2,
   "metadata": {
    "collapsed": true
   },
   "outputs": [],
   "source": [
    "import matplotlib.pyplot as plt\n",
    "import pandas as pd\n",
    "import numpy as np\n",
    "\n",
    "from sklearn.cross_validation import train_test_split\n",
    "\n",
    "# Lendo csv\n",
    "csv_data = pd.read_csv(\"data/spambase.csv\")\n",
    "\n",
    "# Copiando os dados do csv\n",
    "data = csv_data.values.copy()\n",
    "\n",
    "# Embaralhando os dados para garantir aleatoriedade entre as amostras\n",
    "# np.random.shuffle(data)\n",
    "\n",
    "# Separando atributos de classes\n",
    "x = data[:, :-1]  # x tem apenas valores entre a primeira e penúltima coluna\n",
    "y = data[:, -1]  # y tem os valores da última coluna\n",
    "\n",
    "# 70% dos dados serão utilizados para treinamento e 30% para o teste\n",
    "# A divisão será estratificada, serão mantidas as proporções de spam e não spam em cada grupo\n",
    "x_treino, x_teste, y_treino, y_teste = train_test_split(x, y, train_size=0.7, stratify=y)"
   ]
  },
  {
   "cell_type": "markdown",
   "metadata": {},
   "source": [
    "Uma função para criar um arquivo *.dot* que representa a árvore e o converte em uma imagem do tipo *.png*. Infelizmente ele vai funcionar apenas no linux após instalar o (graphviz)... :/"
   ]
  },
  {
   "cell_type": "code",
   "execution_count": 3,
   "metadata": {
    "collapsed": true
   },
   "outputs": [],
   "source": [
    "import subprocess\n",
    "from sklearn.tree import export_graphviz\n",
    "\n",
    "def create_dot(classificador, nome):\n",
    "    with open(\"%s.dot\" % nome, 'w') as f:\n",
    "        export_graphviz(classificador, out_file=f,)\n",
    "    command = [\"dot\", \"-Tpng\", \"%s.dot\" % nome, \"-o\", \"%s.png\" % nome]\n",
    "    subprocess.check_call(command)\n"
   ]
  },
  {
   "cell_type": "markdown",
   "metadata": {},
   "source": [
    "___\n",
    "## 3. Classificador Àrvore de Decisão\n",
    "\n",
    "\n",
    "Ao contrário dos métodos anteriores, uma árvore de decisão é capaz de lidar com atributos numéricos \n",
    "ou não numéricos (como uma classe), sem importar a natureza do valor.\n",
    "\n",
    "Dos classificadores do tipo árvore existente no scikit-learn, vamos utilizar o *DecisionTreeClassifier*. Nesse classificador é possível utilizar tanto o Gini quanto a Entropia como critério de divisão de um nó. Então, vamos exeprimentar como cada critério influenciará no resultado do classificador.\n",
    "\n",
    "\n",
    "### 3.1 Utilizando o Gini como critério de divisão"
   ]
  },
  {
   "cell_type": "code",
   "execution_count": 4,
   "metadata": {
    "collapsed": false
   },
   "outputs": [
    {
     "name": "stdout",
     "output_type": "stream",
     "text": [
      "Árvore de decisão\n",
      "             precision    recall  f1-score   support\n",
      "\n",
      "        0.0       0.95      0.92      0.93       868\n",
      "        1.0       0.87      0.92      0.89       512\n",
      "\n",
      "avg / total       0.92      0.92      0.92      1380\n",
      "\n"
     ]
    }
   ],
   "source": [
    "from sklearn.tree import DecisionTreeClassifier\n",
    "from sklearn.metrics import classification_report\n",
    "\n",
    "\n",
    "# Classificando com uma árvore de decisão\n",
    "cls_dt_gini = DecisionTreeClassifier(criterion=\"gini\", random_state=9, max_depth=9)\n",
    "# Treinamento\n",
    "cls_dt_gini.fit(x_treino, y_treino)\n",
    "# Predição\n",
    "y_dt_pred = cls_dt_gini.predict(x_teste)\n",
    "\n",
    "print \"Árvore de decisão\"\n",
    "print classification_report(y_dt_pred, y_teste)\n"
   ]
  },
  {
   "cell_type": "markdown",
   "metadata": {},
   "source": [
    "Sem qualquer alteração sobre o conjunto de dados, o classificador já foi capaz de dar um resultado interessante, melhor que o Naive Bayes. Isso se deve muito ao fato de que todas as informações disponíveis foram utilizadas no processo de treinamento.\n",
    "\n",
    "Uma coisa bacana desse classificador é a possibilidade de converter a estrura da árvore criada por ele em uma imagem. Com isso, além visualizar a árvore gerada é possível verificar matemáticamente a sua corretude.\n",
    "\n",
    "Abaixo, podemos ver a árvore utilizada pelo classificador **(clique com o botão direito do mause sobre a imagem e escolha a opção \"abrir em nova aba\" para ter uma melhor visualização).**"
   ]
  },
  {
   "cell_type": "code",
   "execution_count": 13,
   "metadata": {
    "collapsed": false
   },
   "outputs": [],
   "source": [
    "create_dot(cls_dt_gini, \"tree_gini\")"
   ]
  },
  {
   "cell_type": "markdown",
   "metadata": {},
   "source": [
    "![](/files/tree_gini.png)"
   ]
  },
  {
   "cell_type": "markdown",
   "metadata": {},
   "source": [
    "### 3.1 Utilizando a entropia como critério de divisão"
   ]
  },
  {
   "cell_type": "code",
   "execution_count": 6,
   "metadata": {
    "collapsed": false
   },
   "outputs": [
    {
     "name": "stdout",
     "output_type": "stream",
     "text": [
      "Árvore de decisão\n",
      "             precision    recall  f1-score   support\n",
      "\n",
      "        0.0       0.97      0.90      0.93       904\n",
      "        1.0       0.83      0.95      0.89       476\n",
      "\n",
      "avg / total       0.92      0.92      0.92      1380\n",
      "\n"
     ]
    }
   ],
   "source": [
    "# Classificando com uma árvore de decisão\n",
    "cls_dt_ent = DecisionTreeClassifier(criterion=\"entropy\", random_state=9, max_depth=9)\n",
    "# Treinamento\n",
    "cls_dt_ent.fit(x_treino, y_treino)\n",
    "# Predição\n",
    "y_dt_pred = cls_dt_ent.predict(x_teste)\n",
    "\n",
    "print \"Árvore de decisão\"\n",
    "print classification_report(y_dt_pred, y_teste)\n"
   ]
  },
  {
   "cell_type": "markdown",
   "metadata": {},
   "source": [
    "Visualizando a árvore."
   ]
  },
  {
   "cell_type": "code",
   "execution_count": 7,
   "metadata": {
    "collapsed": false
   },
   "outputs": [],
   "source": [
    "create_dot(cls_dt_ent, \"tree_entropy\")"
   ]
  },
  {
   "cell_type": "markdown",
   "metadata": {},
   "source": [
    "![](/files/tree_entropy.png)"
   ]
  },
  {
   "cell_type": "markdown",
   "metadata": {},
   "source": [
    "Como podemos verificar a diferênça de desempenho entre os dois critérios é bem pequena, quase imperceptível. E de fato, a grande diferênça entre ambos esta no desempenho, o Gini é mais rápido e mais simples. Estudos já mostraram que a diferênça de precisão é inferior aos 2%."
   ]
  },
  {
   "cell_type": "markdown",
   "metadata": {},
   "source": [
    "## 3. Utilizando uma Floresta de Àrvores de Decisão\n",
    "\n",
    "E se ao invés de uma árvore, utilizássemos uma floresta? Uma coleção de àrvores.\n",
    "\n",
    "O Random Forest é um meta classificador que utiliza uma coleção de árvores de decisão. O algoritmo Random Forest gera múltiplas árvores de decisão que depois são utilizadas na classificação de novos objetos. O seu final, na predição, é o resultado da combinação dos resultados das suas árvores de decisão.\n",
    "\n",
    "No scikit Learn temos o RandomForestClassifier."
   ]
  },
  {
   "cell_type": "code",
   "execution_count": 8,
   "metadata": {
    "collapsed": false
   },
   "outputs": [
    {
     "name": "stdout",
     "output_type": "stream",
     "text": [
      "Floresta árvores de decisão\n",
      "             precision    recall  f1-score   support\n",
      "\n",
      "        0.0       0.98      0.94      0.96       865\n",
      "        1.0       0.91      0.96      0.93       515\n",
      "\n",
      "avg / total       0.95      0.95      0.95      1380\n",
      "\n"
     ]
    }
   ],
   "source": [
    "from sklearn.ensemble import RandomForestClassifier\n",
    "\n",
    "\n",
    "# Classificando com uma floresta árvores de decisão\n",
    "cls_rf = RandomForestClassifier(n_estimators=100)\n",
    "cls_rf.fit(x_treino, y_treino)\n",
    "y_pred_rf = cls_rf.predict(x_teste)\n",
    "\n",
    "print \"Floresta árvores de decisão\"\n",
    "print classification_report(y_pred_rf, y_teste)"
   ]
  },
  {
   "cell_type": "markdown",
   "metadata": {},
   "source": [
    "Uma coisa bacana desse meta classificador, é que ele te possibilita verificar a importância que cada atributo teve na construção sua construção. A importância de um atributo será a combinação da importância que ele teve em cada uma das árvores geradas."
   ]
  },
  {
   "cell_type": "code",
   "execution_count": 9,
   "metadata": {
    "collapsed": false
   },
   "outputs": [
    {
     "data": {
      "image/png": "[encoded data removed]",
      "text/plain": [
       "<matplotlib.figure.Figure at 0x7f179f205110>"
      ]
     },
     "metadata": {},
     "output_type": "display_data"
    }
   ],
   "source": [
    "importances = cls_rf.feature_importances_\n",
    "indices = np.argsort(importances)[::-1]\n",
    "\n",
    "# Plot the feature importances\n",
    "plt.figure(figsize=(26, 6), dpi=200)\n",
    "plt.title(u\"Importância dos Atributos\")\n",
    "plt.grid(b=True, which='both', color='0.7',linestyle='-', axis='y')\n",
    "plt.xticks(range(len(indices)), indices)\n",
    "plt.bar(range(len(indices)), importances[indices], color=\"#4169E1\", align=\"center\",edgecolor=\"#4169E1\")\n",
    "plt.xlabel(u\"Atributos\")\n",
    "plt.ylabel(u\"Importância\")\n",
    "plt.show()"
   ]
  },
  {
   "cell_type": "markdown",
   "metadata": {},
   "source": [
    "De posse dessa informação, podemos tentar eliminar os atributos que tiveram pouca importância. Vamos ver o que acontece..."
   ]
  },
  {
   "cell_type": "code",
   "execution_count": 10,
   "metadata": {
    "collapsed": false
   },
   "outputs": [
    {
     "name": "stdout",
     "output_type": "stream",
     "text": [
      "Foram descartados 31 atributos!!!\n"
     ]
    }
   ],
   "source": [
    "atributos_pouca_import = np.where(importances < 0.007)\n",
    "print \"Foram descartados %d atributos!!!\" % len(atributos_pouca_import[0])\n",
    "i_x_teste = np.delete(x_teste, atributos_pouca_import, 1)\n",
    "i_x_treino = np.delete(x_treino, atributos_pouca_import, 1)"
   ]
  },
  {
   "cell_type": "code",
   "execution_count": 11,
   "metadata": {
    "collapsed": false
   },
   "outputs": [
    {
     "name": "stdout",
     "output_type": "stream",
     "text": [
      "Floresta árvores de decisão\n",
      "             precision    recall  f1-score   support\n",
      "\n",
      "        0.0       0.97      0.94      0.96       866\n",
      "        1.0       0.91      0.96      0.93       514\n",
      "\n",
      "avg / total       0.95      0.95      0.95      1380\n",
      "\n"
     ]
    }
   ],
   "source": [
    "cls_rf = RandomForestClassifier(n_estimators=100)\n",
    "cls_rf.fit(i_x_treino, y_treino)\n",
    "y_pred_rf = cls_rf.predict(i_x_teste)\n",
    "\n",
    "print \"Floresta árvores de decisão\"\n",
    "print classification_report(y_pred_rf, y_teste)"
   ]
  },
  {
   "cell_type": "markdown",
   "metadata": {},
   "source": [
    "O resultado é que conseguimos o mesmo resultado com menos da metade dos dados! Ou seja, **nem todas os atributos fornecidos são necessários!** O classificador pode ser ainda mais simples!\n",
    "\n",
    "Sabendo dessa informação, vamos tentar novamente o DecisionTreeClassifier (um classificador mais simples):"
   ]
  },
  {
   "cell_type": "code",
   "execution_count": 12,
   "metadata": {
    "collapsed": false
   },
   "outputs": [
    {
     "name": "stdout",
     "output_type": "stream",
     "text": [
      "Árvore de decisão\n",
      "             precision    recall  f1-score   support\n",
      "\n",
      "        0.0       0.96      0.91      0.93       886\n",
      "        1.0       0.85      0.93      0.89       494\n",
      "\n",
      "avg / total       0.92      0.91      0.92      1380\n",
      "\n"
     ]
    }
   ],
   "source": [
    "cls_dt_r_gini = DecisionTreeClassifier(criterion=\"gini\", random_state=9, max_depth=9)\n",
    "# Treinamento\n",
    "cls_dt_r_gini.fit(i_x_treino, y_treino)\n",
    "# Predição\n",
    "y_dt_pred = cls_dt_r_gini.predict(i_x_teste)\n",
    "\n",
    "print \"Árvore de decisão\"\n",
    "print classification_report(y_dt_pred, y_teste)"
   ]
  },
  {
   "cell_type": "markdown",
   "metadata": {
    "collapsed": true
   },
   "source": [
    "O resultado foi praticamente o mesmo obtido quando DecisionTreeClassifier foi executado. O que prova que realemnete nem todas os atributos fornecidos são necessários!"
   ]
  }
 ],
 "metadata": {
  "kernelspec": {
   "display_name": "Python [Root]",
   "language": "python",
   "name": "Python [Root]"
  },
  "language_info": {
   "codemirror_mode": {
    "name": "ipython",
    "version": 2
   },
   "file_extension": ".py",
   "mimetype": "text/x-python",
   "name": "python",
   "nbconvert_exporter": "python",
   "pygments_lexer": "ipython2",
   "version": "2.7.12"
  }
 },
 "nbformat": 4,
 "nbformat_minor": 0
}
