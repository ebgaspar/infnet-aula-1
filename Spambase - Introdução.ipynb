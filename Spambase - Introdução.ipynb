{
 "cells": [
  {
   "cell_type": "code",
   "execution_count": 1,
   "metadata": {
    "collapsed": false
   },
   "outputs": [],
   "source": [
    "# Necessário para exibir as imagens no notebook.\n",
    "%matplotlib inline"
   ]
  },
  {
   "cell_type": "markdown",
   "metadata": {},
   "source": [
    "## Antes de falar do problema...\n",
    "\n",
    "\n",
    "### Vamos criar uma função simples para plotar gráficos de barra\n",
    "\n",
    "Essa função será útil em alguns momentos para visualização simples dos dados em um gráfico de barras. A nossa função terá três parâmetros:\n",
    "- **vetor**, um vetor de valores onde cada valor representa a altura de uma barra;\n",
    "- **w**, largura do gráfico;\n",
    "- **h**, altura do gráfico;\n",
    "- **title**, título do gráfico."
   ]
  },
  {
   "cell_type": "code",
   "execution_count": 2,
   "metadata": {
    "collapsed": true
   },
   "outputs": [],
   "source": [
    "import matplotlib.pyplot as plt\n",
    "import numpy as np\n",
    "\n",
    "def plot_bar_chart(vetor, w=14, h=6, title=''):\n",
    "    \"\"\" Função para plotar um gráfico de barras\n",
    "    \"\"\"\n",
    "    # Definindo tamanho da imagem\n",
    "    plt.figure(figsize=(w, h), dpi=100)\n",
    "    # Para plotar o grid (as linhas horizontais):\n",
    "    plt.grid(b=True, which='both', color='0.5',linestyle='-', axis='y')\n",
    "    # Plotando as barras\n",
    "    plt.bar(range(len(vetor)), vetor, color=\"#4169E1\", edgecolor=\"#4169E1\")\n",
    "    # Definindo a legenda sobre o eixo x e sua localização\n",
    "    plt.xticks(np.arange(len(vetor)) + 0.4, range(len(vetor)))\n",
    "    # Limitando a parte que será visível do eixo x\n",
    "    plt.xlim([-0.2, len(vetor)])\n",
    "    # Definindo um titúlo\n",
    "    plt.title(title)\n",
    "    # Exibindo o gráfico\n",
    "    plt.show()"
   ]
  },
  {
   "cell_type": "markdown",
   "metadata": {},
   "source": [
    "Vamos fazer um simples teste, considere o vetor:"
   ]
  },
  {
   "cell_type": "code",
   "execution_count": 3,
   "metadata": {
    "collapsed": false
   },
   "outputs": [
    {
     "data": {
      "image/png": "[encoded data removed]",
      "text/plain": [
       "<matplotlib.figure.Figure at 0x7f07eb42e610>"
      ]
     },
     "metadata": {},
     "output_type": "display_data"
    }
   ],
   "source": [
    "v = [1, 2, 12, 4, 5, 6, 15]\n",
    "\n",
    "plot_bar_chart(vetor=v, w=12, h=5, title='Teste')"
   ]
  },
  {
   "cell_type": "markdown",
   "metadata": {},
   "source": [
    "# 1. O Spambase Data Set\n",
    "\n",
    "O Spambase data set está disponível no site da [UCI](https://archive.ics.uci.edu/ml/datasets/Spambase).O conjunto de dados comtém 4600 mensagens de email classificadas como spam ou não-spam, e o nosso objetivo é construir um classificador que seja capaz de distinguir, com uma boa precisão, um spam de um email normal.\n",
    "\n",
    "\n",
    "Nessa base de dados, cada email foi convertido em uma sequência de 58 valores numericos (58 atributos), onde:\n",
    "\n",
    "- [0-47] 48 palavras mais citadas nos emails, onde cada valor representa a probabilidade da palavra ser encontrada no email (*[número de ocorrências]/[total de palavras] x 100 *);\n",
    "- [48-53] 6 caracteres mais frequentes nos emails, e cada valor representa a probabiidade do caracter ser encontrado no email (*[número de ocorrências]/[total de caracteres] x 100*);\n",
    "- [54] comprimento médio das palavras escritas em caixa alta;\n",
    "- [55] comprimento da maior palavra escritas em caixa alta;\n",
    "- [56] total de letras em maiúsculo no email.\n",
    "- [57] a classe do email: 1 (spam) ou 0 (não-spam).\n",
    "\n",
    "Diante disso, nosso primeiro passo será carregar esse dados.\n",
    "___\n",
    "## 1.1 Leitura e Visualização dos dados\n",
    "\n",
    "Os dados estão em um arquivo *.csv* (uma planilha) e a leitura dele será feita utilizando o pandas. Após a leitura esses dados serão copiados em uma variável local."
   ]
  },
  {
   "cell_type": "code",
   "execution_count": 4,
   "metadata": {
    "collapsed": false
   },
   "outputs": [
    {
     "data": {
      "text/html": [
       "<div>\n",
       "<table border=\"1\" class=\"dataframe\">\n",
       "  <thead>\n",
       "    <tr style=\"text-align: right;\">\n",
       "      <th></th>\n",
       "      <th>0</th>\n",
       "      <th>0.64</th>\n",
       "      <th>0.64.1</th>\n",
       "      <th>0.1</th>\n",
       "      <th>0.32</th>\n",
       "      <th>0.2</th>\n",
       "      <th>0.3</th>\n",
       "      <th>0.4</th>\n",
       "      <th>0.5</th>\n",
       "      <th>0.6</th>\n",
       "      <th>...</th>\n",
       "      <th>0.40</th>\n",
       "      <th>0.41</th>\n",
       "      <th>0.42</th>\n",
       "      <th>0.778</th>\n",
       "      <th>0.43</th>\n",
       "      <th>0.44</th>\n",
       "      <th>3.756</th>\n",
       "      <th>61</th>\n",
       "      <th>278</th>\n",
       "      <th>1</th>\n",
       "    </tr>\n",
       "  </thead>\n",
       "  <tbody>\n",
       "    <tr>\n",
       "      <th>0</th>\n",
       "      <td>0.21</td>\n",
       "      <td>0.28</td>\n",
       "      <td>0.50</td>\n",
       "      <td>0.0</td>\n",
       "      <td>0.0</td>\n",
       "      <td>0.28</td>\n",
       "      <td>0.21</td>\n",
       "      <td>0.07</td>\n",
       "      <td>0.00</td>\n",
       "      <td>0.94</td>\n",
       "      <td>...</td>\n",
       "      <td>0.00</td>\n",
       "      <td>0.132</td>\n",
       "      <td>0.0</td>\n",
       "      <td>0.372</td>\n",
       "      <td>0.180</td>\n",
       "      <td>0.048</td>\n",
       "      <td>5.114</td>\n",
       "      <td>101</td>\n",
       "      <td>1028</td>\n",
       "      <td>1</td>\n",
       "    </tr>\n",
       "    <tr>\n",
       "      <th>1</th>\n",
       "      <td>0.06</td>\n",
       "      <td>0.00</td>\n",
       "      <td>0.71</td>\n",
       "      <td>0.0</td>\n",
       "      <td>0.0</td>\n",
       "      <td>0.19</td>\n",
       "      <td>0.19</td>\n",
       "      <td>0.12</td>\n",
       "      <td>0.64</td>\n",
       "      <td>0.25</td>\n",
       "      <td>...</td>\n",
       "      <td>0.01</td>\n",
       "      <td>0.143</td>\n",
       "      <td>0.0</td>\n",
       "      <td>0.276</td>\n",
       "      <td>0.184</td>\n",
       "      <td>0.010</td>\n",
       "      <td>9.821</td>\n",
       "      <td>485</td>\n",
       "      <td>2259</td>\n",
       "      <td>1</td>\n",
       "    </tr>\n",
       "    <tr>\n",
       "      <th>2</th>\n",
       "      <td>0.00</td>\n",
       "      <td>0.00</td>\n",
       "      <td>0.00</td>\n",
       "      <td>0.0</td>\n",
       "      <td>0.0</td>\n",
       "      <td>0.00</td>\n",
       "      <td>0.31</td>\n",
       "      <td>0.63</td>\n",
       "      <td>0.31</td>\n",
       "      <td>0.63</td>\n",
       "      <td>...</td>\n",
       "      <td>0.00</td>\n",
       "      <td>0.137</td>\n",
       "      <td>0.0</td>\n",
       "      <td>0.137</td>\n",
       "      <td>0.000</td>\n",
       "      <td>0.000</td>\n",
       "      <td>3.537</td>\n",
       "      <td>40</td>\n",
       "      <td>191</td>\n",
       "      <td>1</td>\n",
       "    </tr>\n",
       "    <tr>\n",
       "      <th>3</th>\n",
       "      <td>0.00</td>\n",
       "      <td>0.00</td>\n",
       "      <td>0.00</td>\n",
       "      <td>0.0</td>\n",
       "      <td>0.0</td>\n",
       "      <td>0.00</td>\n",
       "      <td>0.31</td>\n",
       "      <td>0.63</td>\n",
       "      <td>0.31</td>\n",
       "      <td>0.63</td>\n",
       "      <td>...</td>\n",
       "      <td>0.00</td>\n",
       "      <td>0.135</td>\n",
       "      <td>0.0</td>\n",
       "      <td>0.135</td>\n",
       "      <td>0.000</td>\n",
       "      <td>0.000</td>\n",
       "      <td>3.537</td>\n",
       "      <td>40</td>\n",
       "      <td>191</td>\n",
       "      <td>1</td>\n",
       "    </tr>\n",
       "    <tr>\n",
       "      <th>4</th>\n",
       "      <td>0.00</td>\n",
       "      <td>0.00</td>\n",
       "      <td>0.00</td>\n",
       "      <td>0.0</td>\n",
       "      <td>0.0</td>\n",
       "      <td>0.00</td>\n",
       "      <td>0.00</td>\n",
       "      <td>1.85</td>\n",
       "      <td>0.00</td>\n",
       "      <td>0.00</td>\n",
       "      <td>...</td>\n",
       "      <td>0.00</td>\n",
       "      <td>0.223</td>\n",
       "      <td>0.0</td>\n",
       "      <td>0.000</td>\n",
       "      <td>0.000</td>\n",
       "      <td>0.000</td>\n",
       "      <td>3.000</td>\n",
       "      <td>15</td>\n",
       "      <td>54</td>\n",
       "      <td>1</td>\n",
       "    </tr>\n",
       "  </tbody>\n",
       "</table>\n",
       "<p>5 rows × 58 columns</p>\n",
       "</div>"
      ],
      "text/plain": [
       "      0  0.64  0.64.1  0.1  0.32   0.2   0.3   0.4   0.5   0.6 ...  0.40  \\\n",
       "0  0.21  0.28    0.50  0.0   0.0  0.28  0.21  0.07  0.00  0.94 ...  0.00   \n",
       "1  0.06  0.00    0.71  0.0   0.0  0.19  0.19  0.12  0.64  0.25 ...  0.01   \n",
       "2  0.00  0.00    0.00  0.0   0.0  0.00  0.31  0.63  0.31  0.63 ...  0.00   \n",
       "3  0.00  0.00    0.00  0.0   0.0  0.00  0.31  0.63  0.31  0.63 ...  0.00   \n",
       "4  0.00  0.00    0.00  0.0   0.0  0.00  0.00  1.85  0.00  0.00 ...  0.00   \n",
       "\n",
       "    0.41  0.42  0.778   0.43   0.44  3.756   61   278  1  \n",
       "0  0.132   0.0  0.372  0.180  0.048  5.114  101  1028  1  \n",
       "1  0.143   0.0  0.276  0.184  0.010  9.821  485  2259  1  \n",
       "2  0.137   0.0  0.137  0.000  0.000  3.537   40   191  1  \n",
       "3  0.135   0.0  0.135  0.000  0.000  3.537   40   191  1  \n",
       "4  0.223   0.0  0.000  0.000  0.000  3.000   15    54  1  \n",
       "\n",
       "[5 rows x 58 columns]"
      ]
     },
     "execution_count": 4,
     "metadata": {},
     "output_type": "execute_result"
    }
   ],
   "source": [
    "import pandas as pd\n",
    "\n",
    "# Lendo csv\n",
    "csv_data = pd.read_csv(\"data/spambase.csv\")  # Localização do arquivo\n",
    "\n",
    "# Copiando os dados do csv\n",
    "data = csv_data.values.copy()\n",
    "\n",
    "# Exibindo as primeiras 5 linhas\n",
    "csv_data[:5]"
   ]
  },
  {
   "cell_type": "markdown",
   "metadata": {},
   "source": [
    "## 1.2 Separando atributos das classes\n",
    "\n",
    "A última coluna na matriz representa a classe a qual cada email pertence. É necessário separar atributos das classes, já que o objetivo do classificador é: a partir de uma coleção de atributos identificar a classe a qual eles pertencem."
   ]
  },
  {
   "cell_type": "code",
   "execution_count": 5,
   "metadata": {
    "collapsed": false
   },
   "outputs": [],
   "source": [
    "x = data[:, :-1]  # x tem apenas valores entre a primeira e penúltima coluna\n",
    "y = data[:, -1]  # y tem os valores da última coluna"
   ]
  },
  {
   "cell_type": "markdown",
   "metadata": {},
   "source": [
    "## 1.3 Conhecendo um pouco mais os nossos dados\n",
    "\n",
    "Antes de escolher um classificador é importante conhecer os nossos dados, entender sua origem e visualizar a distribuição dos atributos na base.\n",
    "\n",
    "Primeiro, vamos ver como esses atributos estão distribuídos, vamos representar em um gráfico o número de ocorrências de cada atributo no nosso conjunto de dados. Para tanto, será necessário converter a matriz que temos para uma matriz de ocorrências, ou seja, ao invés da frequência que uma palavra ocorre no email, queremos agora saber apenas se ela está presente ou não. Nessa primeira etapa será utilizada a função **binarize** que irá converter cada valor **n** de uma matriz em 0 ou em 1 de acordo com o valor de um *threshold*. Caso o *threshold* seja 0:\n",
    "- o novo valor será 0, se **n** for menor ou igual à 0, ou\n",
    "- o novo valor será 1, se caso contrário.\n",
    "\n",
    "Exemplo:"
   ]
  },
  {
   "cell_type": "code",
   "execution_count": 6,
   "metadata": {
    "collapsed": false
   },
   "outputs": [
    {
     "data": {
      "text/plain": [
       "array([[ 0.,  1.,  1.],\n",
       "       [ 0.,  1.,  1.]])"
      ]
     },
     "execution_count": 6,
     "metadata": {},
     "output_type": "execute_result"
    }
   ],
   "source": [
    "from sklearn.preprocessing import binarize\n",
    "\n",
    "vetor = [[0.0, 1.0, 0.2,],\n",
    "         [-0.1, 1.5, 0.01]]\n",
    "binarize(vetor, threshold=0.0)"
   ]
  },
  {
   "cell_type": "markdown",
   "metadata": {},
   "source": [
    "Em seguida, a função numpy.sum será utilizada para calcular a quantidade de ocorrências de cada atributo. Ela simplesmente irá somar os valores de cada coluna e retornará um vetor onde cada valor representará uma coluna com a quantidade de ocorrências do atributo."
   ]
  },
  {
   "cell_type": "code",
   "execution_count": 7,
   "metadata": {
    "collapsed": false
   },
   "outputs": [
    {
     "data": {
      "text/plain": [
       "array([ 1053.,   897.,  1887.,    47.,   148.,   999.,   807.,   824.,\n",
       "         773.,  1302.,   709.,  2324.,   852.,   357.,   336.,  1240.,\n",
       "         963.,  1037.,  3226.,   424.,  2422.,   117.,   679.,   735.,\n",
       "        1090.,   811.,   780.,   463.,   372.,   469.,   293.,   205.,\n",
       "         405.,   215.,   485.,   599.,   829.,    83.,   384.,   453.,\n",
       "         148.,   341.,   375.,   327.,  1311.,   517.,    63.,   203.,\n",
       "         790.,  2715.,   529.,  2257.,  1400.,   750.,  4600.,  4600.,\n",
       "        4600.])"
      ]
     },
     "execution_count": 7,
     "metadata": {},
     "output_type": "execute_result"
    }
   ],
   "source": [
    "x_binario = binarize(x, threshold=0.0)\n",
    "histograma = np.sum(x_binario, 0)\n",
    "histograma"
   ]
  },
  {
   "cell_type": "code",
   "execution_count": 8,
   "metadata": {
    "collapsed": false,
    "scrolled": true
   },
   "outputs": [
    {
     "data": {
      "image/png": "[encoded data removed]",
      "text/plain": [
       "<matplotlib.figure.Figure at 0x7f07e419eb10>"
      ]
     },
     "metadata": {},
     "output_type": "display_data"
    }
   ],
   "source": [
    "plot_bar_chart(vetor=histograma, title=\"Histograma\")"
   ]
  },
  {
   "cell_type": "markdown",
   "metadata": {},
   "source": [
    "Observando o histograma, podemos verificar que os 3 últimos atributos têm valores diferentes de 0 em todas as amostras. Vale lembrar que esses últimos atributos são referentes a ocorrência de palavras em caixa alta. Verificamos também que alguns atributos são bem mais frequentes que os outros.\n",
    "\n",
    "## 1.4 Divisão do conjunto de dados em dois grupos: grupo de treinamento (70%) e grupo de teste (30%)\n",
    "\n",
    "Como foi apresentado na aula teórica, temos que treinar o classificador e depois testá-lo para verificar o seu desempenho. Para essa duas etapas são necessários dois conjuntos de dados diferentes: o de treinamento e o de teste/validação. Como temos apenas um conjunto de dados, é preciso dividí-lo em dois sub conjuntos, geralmente o conjunto de treinamento é 70% do total e o de teste, 30%. Nessa divisão é interessante que a proporção de amostras/classe seja mantida para garantir que todas as classes serão bem representadas em cada conjunto.\n",
    "\n",
    "No scikit learn o método *train_test_split* lhe permite fazer a divisão de uma coleção de dados em duas partes respeitando as proporções de amostras/atributo."
   ]
  },
  {
   "cell_type": "code",
   "execution_count": 9,
   "metadata": {
    "collapsed": true
   },
   "outputs": [],
   "source": [
    "from sklearn.cross_validation import train_test_split\n",
    "\n",
    "# 70% dos dados serão utilizados para treinamento e 30% para o teste\n",
    "# A divisão será estratificada, serão mantidas as proporções de spam e não spam em cada grupo\n",
    "x_treino, x_teste, y_treino, y_teste = train_test_split(x, y, train_size=0.7, stratify=y)"
   ]
  },
  {
   "cell_type": "markdown",
   "metadata": {},
   "source": [
    "Para verificar essa proporção vamos exibir o total e o percentual em cada uma dessas variáveis."
   ]
  },
  {
   "cell_type": "code",
   "execution_count": 10,
   "metadata": {
    "collapsed": false
   },
   "outputs": [
    {
     "name": "stdout",
     "output_type": "stream",
     "text": [
      "Total de Spam no conjunto de teste: 544 (39%) \n",
      "Total de Spam no conjunto de treino: 1268 (39%) \n"
     ]
    }
   ],
   "source": [
    "# total no conjunto de treino\n",
    "total_spam_treino = np.sum(y_treino)\n",
    "# percentual\n",
    "percent_spam_treino = total_spam_treino/len(y_treino) * 100\n",
    "\n",
    "# total no conjunto de teste\n",
    "total_spam_teste = np.sum(y_teste)\n",
    "# percentual\n",
    "percent_spam_teste = total_spam_teste/len(y_teste) * 100\n",
    "\n",
    "print \"Total de Spam no conjunto de teste: %d (%d%%) \" % (total_spam_teste, percent_spam_teste)\n",
    "print \"Total de Spam no conjunto de treino: %d (%d%%) \" % (total_spam_treino, percent_spam_treino)"
   ]
  },
  {
   "cell_type": "markdown",
   "metadata": {},
   "source": [
    "E observando os gráficos abaixo, percebemos que todos os atributos também estão bem representados nos dois conjuntos."
   ]
  },
  {
   "cell_type": "code",
   "execution_count": 11,
   "metadata": {
    "collapsed": false,
    "scrolled": false
   },
   "outputs": [
    {
     "data": {
      "image/png": "[encoded data removed]",
      "text/plain": [
       "<matplotlib.figure.Figure at 0x7f07d9349050>"
      ]
     },
     "metadata": {},
     "output_type": "display_data"
    },
    {
     "data": {
      "image/png": "[encoded data removed]",
      "text/plain": [
       "<matplotlib.figure.Figure at 0x7f07d8c2ea10>"
      ]
     },
     "metadata": {},
     "output_type": "display_data"
    }
   ],
   "source": [
    "plot_bar_chart(vetor=np.sum(binarize(x_treino), 0), h=2, title=u\"Conjunto de treino\")\n",
    "plot_bar_chart(vetor=np.sum(binarize(x_teste), 0), h=2, title=u\"Conjunto de teste\")"
   ]
  },
  {
   "cell_type": "markdown",
   "metadata": {},
   "source": [
    "___\n",
    "## Código até aqui (Resumo)"
   ]
  },
  {
   "cell_type": "code",
   "execution_count": 12,
   "metadata": {
    "collapsed": false
   },
   "outputs": [],
   "source": [
    "import pandas as pd\n",
    "import numpy as np\n",
    "\n",
    "from sklearn.cross_validation import train_test_split\n",
    "\n",
    "# Lendo csv\n",
    "csv_data = pd.read_csv(\"data/spambase.csv\")\n",
    "\n",
    "# Copiando os dados do csv\n",
    "data = csv_data.values.copy()\n",
    "\n",
    "# Embaralhando os dados para garantir aleatoriedade entre as amostras\n",
    "# np.random.shuffle(data)\n",
    "\n",
    "# Separando atributos de classes\n",
    "x = data[:, :-1]  # x tem apenas valores entre a primeira e penúltima coluna\n",
    "y = data[:, -1]  # y tem os valores da última coluna\n",
    "\n",
    "# 70% dos dados serão utilizados para treinamento e 30% para o teste\n",
    "# A divisão será estratificada, serão mantidas as proporções de spam e não spam em cada grupo\n",
    "x_treino, x_teste, y_treino, y_teste = train_test_split(x, y, train_size=0.7, stratify=y)"
   ]
  },
  {
   "cell_type": "markdown",
   "metadata": {},
   "source": [
    "Agora que já temos uma noção sobre quem são e como estão distribuídos os nossos dados, vamos aprender a classificá-los!"
   ]
  }
 ],
 "metadata": {
  "celltoolbar": "Raw Cell Format",
  "kernelspec": {
   "display_name": "Python 2",
   "language": "python",
   "name": "python2"
  },
  "language_info": {
   "codemirror_mode": {
    "name": "ipython",
    "version": 2
   },
   "file_extension": ".py",
   "mimetype": "text/x-python",
   "name": "python",
   "nbconvert_exporter": "python",
   "pygments_lexer": "ipython2",
   "version": "2.7.11"
  }
 },
 "nbformat": 4,
 "nbformat_minor": 0
}
